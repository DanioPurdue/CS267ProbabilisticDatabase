{
 "cells": [
  {
   "cell_type": "markdown",
   "metadata": {},
   "source": [
    "# Query Form"
   ]
  },
  {
   "cell_type": "code",
   "execution_count": 1,
   "metadata": {
    "collapsed": true
   },
   "outputs": [],
   "source": [
    "#variable\n",
    "class Var:\n",
    "    def __init__(self, name, isForall):\n",
    "        this.name = name\n",
    "        this.isForall = isForall\n"
   ]
  },
  {
   "cell_type": "code",
   "execution_count": 8,
   "metadata": {
    "collapsed": true
   },
   "outputs": [],
   "source": [
    "# String parser\n",
    "sample_str = \"R(x1),S(x1,y1) || S(x2, y2), T(x2)\""
   ]
  },
  {
   "cell_type": "code",
   "execution_count": 31,
   "metadata": {
    "collapsed": true
   },
   "outputs": [],
   "source": [
    "class QueryParser:\n",
    "    def parseString(self, query_str):\n",
    "        res_strs = list()\n",
    "        conj_list = query_str.strip().split(\"||\")\n",
    "        for conj_query in conj_list:\n",
    "            print(\"=========\")\n",
    "            print(conj_query)\n",
    "            self.conjuncQueryParser(conj_query.strip())\n",
    "            print(\"=========\")\n",
    "        return res_strs\n",
    "    \n",
    "    def conjuncQueryParser(self, conj_query):\n",
    "        conj_list = list()\n",
    "        i = 0\n",
    "        str_len = len(conj_query)\n",
    "        while i < str_len:\n",
    "            if conj_query[i].isupper():\n",
    "                one_table = \"\"\n",
    "                while conj_query[i] != \")\":   \n",
    "                    one_table += conj_query[i]\n",
    "                    i = i+1\n",
    "                one_table += conj_query[i]\n",
    "                conj_list.append(one_table)\n",
    "            i += 1\n",
    "        print(conj_list)\n",
    "        return conj_list\n",
    "\n",
    "            "
   ]
  },
  {
   "cell_type": "code",
   "execution_count": 32,
   "metadata": {},
   "outputs": [
    {
     "name": "stdout",
     "output_type": "stream",
     "text": [
      "=========\n",
      "R(x1),S(x1,y1) \n",
      "['R(x1)', 'S(x1,y1)']\n",
      "=========\n",
      "=========\n",
      " S(x2, y2), T(x2)\n",
      "['S(x2, y2)', 'T(x2)']\n",
      "=========\n",
      "[]\n"
     ]
    }
   ],
   "source": [
    "qp = QueryParser()\n",
    "print (qp.parseString(sample_str))"
   ]
  },
  {
   "cell_type": "code",
   "execution_count": 19,
   "metadata": {},
   "outputs": [
    {
     "data": {
      "text/plain": [
       "True"
      ]
     },
     "execution_count": 19,
     "metadata": {},
     "output_type": "execute_result"
    }
   ],
   "source": [
    "'A'.isupper()"
   ]
  },
  {
   "cell_type": "code",
   "execution_count": null,
   "metadata": {
    "collapsed": true
   },
   "outputs": [],
   "source": []
  }
 ],
 "metadata": {
  "kernelspec": {
   "display_name": "Python 3",
   "language": "python",
   "name": "python3"
  },
  "language_info": {
   "codemirror_mode": {
    "name": "ipython",
    "version": 3
   },
   "file_extension": ".py",
   "mimetype": "text/x-python",
   "name": "python",
   "nbconvert_exporter": "python",
   "pygments_lexer": "ipython3",
   "version": "3.6.3"
  }
 },
 "nbformat": 4,
 "nbformat_minor": 2
}
