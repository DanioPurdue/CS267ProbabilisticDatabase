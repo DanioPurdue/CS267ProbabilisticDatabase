{
 "cells": [
  {
   "cell_type": "code",
   "execution_count": 15,
   "metadata": {},
   "outputs": [],
   "source": [
    "# import pymc3 as pm\n",
    "import numpy as np"
   ]
  },
  {
   "cell_type": "markdown",
   "metadata": {},
   "source": [
    "# Query Form"
   ]
  },
  {
   "cell_type": "code",
   "execution_count": 40,
   "metadata": {
    "collapsed": true
   },
   "outputs": [],
   "source": [
    "#variable\n",
    "class Var:\n",
    "    def __init__(self, name, isForall):\n",
    "        this.name = name\n",
    "        this.isForall = isForall\n"
   ]
  },
  {
   "cell_type": "code",
   "execution_count": 1,
   "metadata": {
    "collapsed": true
   },
   "outputs": [],
   "source": [
    "# String parser\n",
    "sample_str = \"R(x1),S(x1,y1) || S(x2, y2), T(x2)\""
   ]
  },
  {
   "cell_type": "code",
   "execution_count": 4,
   "metadata": {},
   "outputs": [
    {
     "name": "stdout",
     "output_type": "stream",
     "text": [
      "pre R(x1),S(x1,y1) \n",
      "processed:['R(x1)', 'S(x1,y1)']\n",
      "end =========\n",
      "pre  S(x2, y2), T(x2)\n",
      "processed:['S(x2, y2)', 'T(x2)']\n",
      "end =========\n"
     ]
    }
   ],
   "source": [
    "class QueryParser:\n",
    "    # Description: parsed the raw string input \n",
    "    # query to the designated form for the lifted inference algorithm\n",
    "    def parseString(self, query_str):\n",
    "        #Description: primary function to parse the query string\n",
    "        #input: query_str: string -  the input string\n",
    "        res_strs = list()\n",
    "        conj_list = query_str.strip().split(\"||\")\n",
    "        for conj_query in conj_list:\n",
    "            print(\"pre \" + conj_query)\n",
    "            self.conjuncQueryParser(conj_query.strip())\n",
    "            print(\"end =========\")\n",
    "        return res_strs\n",
    "    \n",
    "    def conjuncQueryParser(self, conj_query):\n",
    "        #Description: get the tables for each conjunctive query\n",
    "        #return: string - a list of tables\n",
    "        conj_list = list()\n",
    "        i = 0\n",
    "        str_len = len(conj_query)\n",
    "        while i < str_len:\n",
    "            if conj_query[i].isupper():\n",
    "                one_table = \"\"\n",
    "                while conj_query[i] != \")\":   \n",
    "                    one_table += conj_query[i]\n",
    "                    i = i+1\n",
    "                one_table += conj_query[i]\n",
    "                conj_list.append(one_table)\n",
    "            i += 1\n",
    "        print(\"processed:\" + str(conj_list))\n",
    "        return conj_list\n",
    "\n",
    "qp = QueryParser()\n",
    "res = qp.parseString(sample_str)\n",
    "\n",
    "            "
   ]
  },
  {
   "cell_type": "code",
   "execution_count": 3,
   "metadata": {},
   "outputs": [
    {
     "data": {
      "text/plain": [
       "True"
      ]
     },
     "execution_count": 3,
     "metadata": {},
     "output_type": "execute_result"
    }
   ],
   "source": [
    "'A'.isupper()"
   ]
  },
  {
   "cell_type": "markdown",
   "metadata": {
    "collapsed": true
   },
   "source": [
    "# Gibbs Sampling"
   ]
  },
  {
   "cell_type": "code",
   "execution_count": 54,
   "metadata": {},
   "outputs": [],
   "source": [
    "class randomVar:\n",
    "    def __init__(self, table_name, var_name, prob):\n",
    "        self.table_name = table_name\n",
    "        self.var_name = var_name\n",
    "        self.prob = prob\n",
    "        \n",
    "    def getName(self):\n",
    "        return self.table_name + \" \" + self.var_name\n",
    "    \n",
    "    def sample(self):\n",
    "        return np.random.binomial(1, self.prob);\n",
    "    "
   ]
  },
  {
   "cell_type": "code",
   "execution_count": 57,
   "metadata": {},
   "outputs": [
    {
     "data": {
      "text/plain": [
       "'hello x1'"
      ]
     },
     "execution_count": 57,
     "metadata": {},
     "output_type": "execute_result"
    }
   ],
   "source": [
    "x1 = randomVar(\"hello\", \"x1\", 0.5)\n",
    "x1.getName()"
   ]
  },
  {
   "cell_type": "code",
   "execution_count": 59,
   "metadata": {},
   "outputs": [],
   "source": [
    "class GibbsSampler:\n",
    "    \n",
    "    def __init__(self, list_of_vars, var_name, prob):\n",
    "        self.list_of_vars = list_of_vars\n",
    "        self.var_name = var_name\n",
    "        self.prob = prob\n",
    "    \n",
    "    def gibbsSample(self):\n",
    "        res_dict = []\n",
    "        for one_var in list_of_vars:\n",
    "            res_dict[one_var.getName()] = one_var.sample()\n",
    "        return res_dict"
   ]
  },
  {
   "cell_type": "code",
   "execution_count": null,
   "metadata": {
    "collapsed": true
   },
   "outputs": [],
   "source": []
  }
 ],
 "metadata": {
  "kernelspec": {
   "display_name": "Python 3",
   "language": "python",
   "name": "python3"
  },
  "language_info": {
   "codemirror_mode": {
    "name": "ipython",
    "version": 3
   },
   "file_extension": ".py",
   "mimetype": "text/x-python",
   "name": "python",
   "nbconvert_exporter": "python",
   "pygments_lexer": "ipython3",
   "version": "3.6.3"
  }
 },
 "nbformat": 4,
 "nbformat_minor": 2
}
