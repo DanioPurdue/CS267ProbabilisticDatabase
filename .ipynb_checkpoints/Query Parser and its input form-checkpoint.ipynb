{
 "cells": [
  {
   "cell_type": "code",
   "execution_count": 184,
   "metadata": {},
   "outputs": [],
   "source": [
    "# import pymc3 as pm\n",
    "import numpy as np\n",
    "import pandas as pd\n",
    "from Variable import Variable\n",
    "from Predicate import Predicate"
   ]
  },
  {
   "cell_type": "markdown",
   "metadata": {},
   "source": [
    "# Query Parser"
   ]
  },
  {
   "cell_type": "code",
   "execution_count": 185,
   "metadata": {},
   "outputs": [
    {
     "name": "stdout",
     "output_type": "stream",
     "text": [
      "x\n"
     ]
    }
   ],
   "source": [
    "# String parser\n",
    "sample_str = \"R(x1),S(x1,y1) || S(x2, y2), T(x2)\"\n",
    "one_var = Variable(\"x\")\n",
    "print(one_var.name)"
   ]
  },
  {
   "cell_type": "code",
   "execution_count": 208,
   "metadata": {},
   "outputs": [
    {
     "name": "stdout",
     "output_type": "stream",
     "text": [
      "pre R(x1),S(x1,y1) \n",
      "processed:['R(x1)', 'S(x1,y1)']\n",
      "end =========\n",
      "pre  S(x2, y2), T(x2)\n",
      "processed:['S(x2, y2)', 'T(x2)']\n",
      "end =========\n"
     ]
    },
    {
     "data": {
      "text/plain": [
       "<Predicate.Predicate at 0x1c182eda90>"
      ]
     },
     "execution_count": 208,
     "metadata": {},
     "output_type": "execute_result"
    }
   ],
   "source": [
    "class QueryParser:\n",
    "    # Description: parsed the raw string input \n",
    "    # query to the designated form for the lifted inference algorithm\n",
    "    def parseString(self, query_str):\n",
    "        #Description: primary function to parse the query string\n",
    "        #input: query_str: string -  the input string\n",
    "        res_query = list()\n",
    "        conj_list = query_str.strip().split(\"||\")\n",
    "        for conj_query in conj_list:\n",
    "            print(\"pre \" + conj_query)\n",
    "            res_query.append(self.conjuncQueryParser(conj_query.strip()))\n",
    "            print(\"end =========\")\n",
    "        return res_query\n",
    "    \n",
    "    def conjuncQueryParser(self, conj_query):\n",
    "        #Description: get the tables for each conjunctive query\n",
    "        #return: string - a list of tables\n",
    "        conj_list = list()\n",
    "        i = 0\n",
    "        str_len = len(conj_query)\n",
    "        while i < str_len:\n",
    "            if conj_query[i].isupper():\n",
    "                one_table = \"\"\n",
    "                while conj_query[i] != \")\":   \n",
    "                    one_table += conj_query[i]\n",
    "                    i = i+1\n",
    "                one_table += conj_query[i]\n",
    "                conj_list.append(one_table)\n",
    "            i += 1\n",
    "        print(\"processed:\" + str(conj_list))\n",
    "        return [self.predicateParser(one_pred_str) for one_pred_str in conj_list]\n",
    "    \n",
    "    def predicateParser(self, one_pred_str):\n",
    "        left_idx = one_pred_str.find('(')\n",
    "        right_idx = one_pred_str.find(')')\n",
    "        pred_name = one_pred_str[0:left_idx];\n",
    "        var_strs = one_pred_str[left_idx+1: right_idx].strip().split(',')\n",
    "        variables = [Variable(one_var.strip()) for one_var in var_strs]\n",
    "        return Predicate(pred_name, variables)\n",
    "\n",
    "qp = QueryParser()\n",
    "res = qp.parseString(sample_str)\n",
    "qp.predicateParser('R(x1, x2)')            "
   ]
  },
  {
   "cell_type": "code",
   "execution_count": 211,
   "metadata": {},
   "outputs": [
    {
     "name": "stdout",
     "output_type": "stream",
     "text": [
      "x2\n",
      "y2\n"
     ]
    }
   ],
   "source": [
    "print(res[1][0].variables[0].name)\n",
    "print(res[1][0].variables[1].name)"
   ]
  },
  {
   "cell_type": "markdown",
   "metadata": {},
   "source": [
    "# Load the database"
   ]
  },
  {
   "cell_type": "code",
   "execution_count": 177,
   "metadata": {},
   "outputs": [
    {
     "data": {
      "text/plain": [
       "['Friend', {(1, 1): 0.6, (1, 2): 0.8, (2, 1): 0.4}]"
      ]
     },
     "execution_count": 177,
     "metadata": {},
     "output_type": "execute_result"
    }
   ],
   "source": [
    "# Load read the \n",
    "class TableLoader:\n",
    "    \n",
    "    def loadTable(self, path):\n",
    "        # load the table and convert it to the dataframe\n",
    "        df = pd.read_csv(path, skiprows=1, sep=',', header=None)\n",
    "        file = open(path, \"r\")\n",
    "        df.name = file.readline().strip('\\n')\n",
    "        file.close()\n",
    "        names = []\n",
    "        for i in range(len(df.columns) - 1):\n",
    "            names.append('var' + str(i+1))\n",
    "        names.append('Pr')\n",
    "        df.columns = names\n",
    "        return df\n",
    "    \n",
    "    def dataFrameToDictTable(self, df):\n",
    "        # convert the pandas dataframe into a a list [table name, dict()]\n",
    "        table = dict()\n",
    "        table_name = df.name\n",
    "        # this function is for gibbs sampler\n",
    "        for one_row in df.itertuples():\n",
    "            names = [one_row[idx] for idx in range(1, len(one_row)-1)]\n",
    "            table[tuple(names)] = one_row[-1]\n",
    "        return [table_name, table]\n",
    "        \n",
    "    \n",
    "    def getAllVariables(self, df):\n",
    "        # this function is for gibbs sampler\n",
    "        table_name = df.name\n",
    "        rand_vars_list = []\n",
    "        for one_row in df.itertuples():\n",
    "            names = [str(one_row[idx]) for idx in range(len(one_row)-1)]\n",
    "            prob = one_row[-1]\n",
    "            rand_vars_list.append(randomVar(df.name, names, prob))\n",
    "        return rand_vars_list\n",
    "    \n",
    "f1 = TableLoader()\n",
    "tb2 = fl.loadTable('./dbfile/t1.txt')\n",
    "all_vars = f1.getAllVariables(tb2)\n",
    "tb2\n",
    "f1.dataFrameToDictTable(tb2)"
   ]
  },
  {
   "cell_type": "markdown",
   "metadata": {
    "collapsed": true
   },
   "source": [
    "# Gibbs Sampling"
   ]
  },
  {
   "cell_type": "code",
   "execution_count": 165,
   "metadata": {},
   "outputs": [],
   "source": [
    "class randomVar:\n",
    "    def __init__(self, table_name, var_names, prob):\n",
    "        \"\"\"\n",
    "        randomVar object: each object is a tuple in the database\n",
    " \n",
    "        Parameters\n",
    "        --------------------\n",
    "            tablename         --  String, Name of the table\n",
    "            var_name          --  list of strings, names of each variables\n",
    "            prob              --  float, probabiliy associated with that tuple\n",
    " \n",
    "        \"\"\"\n",
    "        self.table_name = table_name\n",
    "        self.var_names = var_names\n",
    "        self.prob = prob\n",
    "        \n",
    "    def getNames(self):\n",
    "        return self.var_names\n",
    "    \n",
    "    def getTableName(self):\n",
    "        return table_name\n",
    "    \n",
    "    def sample(self):\n",
    "        return np.random.binomial(1, self.prob);\n",
    "    "
   ]
  },
  {
   "cell_type": "code",
   "execution_count": 166,
   "metadata": {},
   "outputs": [
    {
     "data": {
      "text/plain": [
       "['x1', 'x2']"
      ]
     },
     "execution_count": 166,
     "metadata": {},
     "output_type": "execute_result"
    }
   ],
   "source": [
    "x1 = randomVar(\"hello\", [\"x1\", \"x2\"], 0.5)\n",
    "x1.getNames()"
   ]
  },
  {
   "cell_type": "code",
   "execution_count": 167,
   "metadata": {},
   "outputs": [],
   "source": [
    "class GibbsSampler: \n",
    "    \n",
    "    def __init__(self, list_of_vars, var_name, prob):\n",
    "        self.list_of_vars = list_of_vars\n",
    "        self.var_name = var_name\n",
    "        self.prob = prob\n",
    "    \n",
    "    def gibbsSample(self):\n",
    "        res_dict = []\n",
    "        for one_var in list_of_vars:\n",
    "            res_dict[one_var.getName()] = one_var.sample()\n",
    "        return res_dict"
   ]
  },
  {
   "cell_type": "code",
   "execution_count": null,
   "metadata": {
    "collapsed": true
   },
   "outputs": [],
   "source": []
  }
 ],
 "metadata": {
  "kernelspec": {
   "display_name": "Python 3",
   "language": "python",
   "name": "python3"
  },
  "language_info": {
   "codemirror_mode": {
    "name": "ipython",
    "version": 3
   },
   "file_extension": ".py",
   "mimetype": "text/x-python",
   "name": "python",
   "nbconvert_exporter": "python",
   "pygments_lexer": "ipython3",
   "version": "3.6.3"
  }
 },
 "nbformat": 4,
 "nbformat_minor": 2
}
