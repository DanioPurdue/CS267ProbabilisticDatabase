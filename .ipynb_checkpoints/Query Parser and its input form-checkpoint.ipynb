{
 "cells": [
  {
   "cell_type": "markdown",
   "metadata": {},
   "source": [
    "# Query Form"
   ]
  },
  {
   "cell_type": "code",
   "execution_count": 1,
   "metadata": {
    "collapsed": true
   },
   "outputs": [],
   "source": [
    "#variable\n",
    "class Var:\n",
    "    def __init__(self, name, isForall):\n",
    "        this.name = name\n",
    "        this.isForall = isForall\n"
   ]
  },
  {
   "cell_type": "code",
   "execution_count": 1,
   "metadata": {
    "collapsed": true
   },
   "outputs": [],
   "source": [
    "# String parser\n",
    "sample_str = \"R(x1),S(x1,y1) || S(x2, y2), T(x2)\""
   ]
  },
  {
   "cell_type": "code",
   "execution_count": 2,
   "metadata": {},
   "outputs": [
    {
     "name": "stdout",
     "output_type": "stream",
     "text": [
      "pre R(x1),S(x1,y1) \n",
      "processed:['R(x1)', 'S(x1,y1)']\n",
      "end =========\n",
      "pre  S(x2, y2), T(x2)\n",
      "processed:['S(x2, y2)', 'T(x2)']\n",
      "end =========\n"
     ]
    }
   ],
   "source": [
    "class QueryParser:\n",
    "    # Description: parsed the raw string input \n",
    "    # query to the designated form for the lifted inference algorithm\n",
    "    def parseString(self, query_str):\n",
    "        #Description: primary function to parse the query string\n",
    "        #input: query_str: string -  the input string\n",
    "        res_strs = list()\n",
    "        conj_list = query_str.strip().split(\"||\")\n",
    "        for conj_query in conj_list:\n",
    "            print(\"pre \" + conj_query)\n",
    "            self.conjuncQueryParser(conj_query.strip())\n",
    "            print(\"end =========\")\n",
    "        return res_strs\n",
    "    \n",
    "    def conjuncQueryParser(self, conj_query):\n",
    "        #Description: get the tables for each conjunctive query\n",
    "        #return: string - a list of tables\n",
    "        conj_list = list()\n",
    "        i = 0\n",
    "        str_len = len(conj_query)\n",
    "        while i < str_len:\n",
    "            if conj_query[i].isupper():\n",
    "                one_table = \"\"\n",
    "                while conj_query[i] != \")\":   \n",
    "                    one_table += conj_query[i]\n",
    "                    i = i+1\n",
    "                one_table += conj_query[i]\n",
    "                conj_list.append(one_table)\n",
    "            i += 1\n",
    "        print(\"processed:\" + str(conj_list))\n",
    "        return conj_list\n",
    "\n",
    "qp = QueryParser()\n",
    "res = qp.parseString(sample_str)\n",
    "\n",
    "            "
   ]
  },
  {
   "cell_type": "code",
   "execution_count": 3,
   "metadata": {},
   "outputs": [
    {
     "data": {
      "text/plain": [
       "True"
      ]
     },
     "execution_count": 3,
     "metadata": {},
     "output_type": "execute_result"
    }
   ],
   "source": [
    "'A'.isupper()"
   ]
  },
  {
   "cell_type": "code",
   "execution_count": null,
   "metadata": {
    "collapsed": true
   },
   "outputs": [],
   "source": []
  }
 ],
 "metadata": {
  "kernelspec": {
   "display_name": "Python 3",
   "language": "python",
   "name": "python3"
  },
  "language_info": {
   "codemirror_mode": {
    "name": "ipython",
    "version": 3
   },
   "file_extension": ".py",
   "mimetype": "text/x-python",
   "name": "python",
   "nbconvert_exporter": "python",
   "pygments_lexer": "ipython3",
   "version": "3.6.3"
  }
 },
 "nbformat": 4,
 "nbformat_minor": 2
}
