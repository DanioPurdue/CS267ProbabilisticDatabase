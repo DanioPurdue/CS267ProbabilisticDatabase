{
 "cells": [
  {
   "cell_type": "code",
   "execution_count": 10,
   "metadata": {},
   "outputs": [],
   "source": [
    "class Predicate:\n",
    "    def __init__(self, name, variables,negation = False):\n",
    "        \"\"\"\n",
    "        Predicate class.\n",
    " \n",
    "        Attributes\n",
    "        --------------------\n",
    "            name              --  Name of the table which the predicate corresponds to\n",
    "            variables         --  Array of variable objects\n",
    "            negation          --  Whether the predicate is negated or not\n",
    "        \"\"\"\n",
    "        \n",
    "        self.name = name\n",
    "        self.variables = variables\n",
    "        self.negation = negation\n",
    "        \n",
    "class Variable:\n",
    "    def __init__(self, name, atom = False):\n",
    "        \"\"\"\n",
    "        Predicate class.\n",
    " \n",
    "        Attributes\n",
    "        --------------------\n",
    "            name              --  Name of the variable (e.g. \"x1\", \"1\")\n",
    "            quantifier        --  \"exist\" or \"forall\"\n",
    "            atom              --  Whether the variable is a ground atom\n",
    "        \"\"\"\n",
    "        \n",
    "        self.name = name\n",
    "        self.quantifier = \"exist\"\n",
    "        self.atom = atom\n",
    "\n",
    "class Lift:\n",
    "    def __init__(self, query, database):\n",
    "        self.query = query\n",
    "        self.database = database\n",
    "        # predicate[][] query, [CNF1, CNF2,...]\n",
    "        # dict[name: dict[(): int]] database\n",
    "    \n",
    "    def findInTable(self,tableName,variables): # str tableName; str_tuple variables\n",
    "        \"\"\"\n",
    "        Find the probability of a variable tuple in a table, -1 if not found\n",
    " \n",
    "        Parameters\n",
    "        --------------------\n",
    "            tablename         --  String, Name of the table\n",
    "            variables         --  Tuple of name of ground variables(atom), (e.g. (\"1\",\"2\"))\n",
    " \n",
    "        Returns\n",
    "        --------------------\n",
    "            p       --  the probability of a variable tuple in a table, \n",
    "                        -1 if not found in table,\n",
    "                        -400 if table does not exist\n",
    "        \"\"\"\n",
    "        \n",
    "        if tableName not in self.database:\n",
    "            return -400\n",
    "        table = self.database[tableName]\n",
    "        if variables not in table:\n",
    "            return -1\n",
    "        return table[variables]\n",
    "    \n",
    "        \n",
    "    \n",
    "    def Step0(self):\n",
    "        \"\"\"\n",
    "        Step 0 of Lifted Inference Algorithm \n",
    " \n",
    "        Parameters\n",
    "        --------------------\n",
    " \n",
    "        Returns\n",
    "        --------------------\n",
    "            p           --  the probability of a variable tuple in a table, \n",
    "                        -1 if not applicable,\n",
    "                        -400 if query is empty\n",
    "        \"\"\"\n",
    "        if not self.query:\n",
    "            return -400\n",
    "        if len(self.query) == 1 and len(self.query[0]) == 1:\n",
    "            predicate = self.query[0][0]\n",
    "            if all([var.atom for var in predicate.variables]):\n",
    "                parameter = tuple([var.name for var in predicate.variables])\n",
    "                # tuple of variables in predicate\n",
    "                p = self.findInTable(predicate.name,parameter)\n",
    "                return p\n",
    "        return -1"
   ]
  },
  {
   "cell_type": "code",
   "execution_count": 13,
   "metadata": {},
   "outputs": [
    {
     "data": {
      "text/plain": [
       "0.8"
      ]
     },
     "execution_count": 13,
     "metadata": {},
     "output_type": "execute_result"
    }
   ],
   "source": [
    "db = {\"S\":{ (\"1\",\"1\"):0.6, (\"2\",\"1\"):0.4, (\"1\",\"2\"):0.8 } }\n",
    "v1 = Variable(\"1\", atom = True)\n",
    "v2 = Variable(\"2\", atom = True)\n",
    "p = Predicate(\"S\",[v1,v2])\n",
    "lift = Lift([[p]],db)\n",
    "lift.Step0()"
   ]
  },
  {
   "cell_type": "code",
   "execution_count": null,
   "metadata": {},
   "outputs": [],
   "source": []
  }
 ],
 "metadata": {
  "kernelspec": {
   "display_name": "Python 2",
   "language": "python",
   "name": "python2"
  },
  "language_info": {
   "codemirror_mode": {
    "name": "ipython",
    "version": 2
   },
   "file_extension": ".py",
   "mimetype": "text/x-python",
   "name": "python",
   "nbconvert_exporter": "python",
   "pygments_lexer": "ipython2",
   "version": "2.7.14"
  }
 },
 "nbformat": 4,
 "nbformat_minor": 2
}
